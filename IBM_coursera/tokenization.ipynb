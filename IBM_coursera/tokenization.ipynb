{
 "cells": [
  {
   "cell_type": "markdown",
   "id": "77be8a2f",
   "metadata": {},
   "source": [
    "## Learning Tokanization\n",
    "\n",
    "- Tokanization is the process of breaking a sentence into smaller peices or tokens\n",
    "- Type of tokanization methods\n",
    "    - Word based ( 'Hello','World')\n",
    "    - Character based ('H','E','L','L','O', ...)\n",
    "    - Subword based (Best of both word and character based)"
   ]
  },
  {
   "cell_type": "markdown",
   "id": "552d9ad3",
   "metadata": {},
   "source": [
    "#### Understanding Tokanization using Pytorch"
   ]
  },
  {
   "cell_type": "code",
   "execution_count": null,
   "id": "f9df0b69",
   "metadata": {},
   "outputs": [],
   "source": [
    "!pip install nltk\n",
    "!pip install transformers==4.42.1\n",
    "!pip install sentencepiece\n",
    "!pip install spacy\n",
    "!python -m spacy download en_core_web_sm\n",
    "!python -m spacy download de_core_news_sm\n",
    "!pip install scikit-learn\n",
    "!pip install torch==2.2.2\n",
    "!pip install torchtext==0.17.2\n",
    "!pip install numpy==1.26.0"
   ]
  },
  {
   "cell_type": "markdown",
   "id": "082e9c38",
   "metadata": {},
   "source": [
    "- Lets create a dataset of some sentences"
   ]
  },
  {
   "cell_type": "code",
   "execution_count": 1,
   "id": "d70e562a",
   "metadata": {},
   "outputs": [],
   "source": [
    "dataset= [(1, \"This is a positive review.\"),\n",
    "          (1, \"This is a negative review.\"),\n",
    "          (2, \"I love this product!\"),\n",
    "          (2, \"I hate this product.\"),\n",
    "          (1, \"Absolutely fantastic!\"),\n",
    "          (3, \"Terrible experience.\"),\n",
    "          (4, \"Highly recommend it.\"),\n",
    "          (3, \"Would not buy again.\")]"
   ]
  },
  {
   "cell_type": "code",
   "execution_count": 2,
   "id": "f134c607",
   "metadata": {},
   "outputs": [
    {
     "data": {
      "text/plain": [
       "['this', 'is', 'a', 'positive', 'review', '.']"
      ]
     },
     "execution_count": 2,
     "metadata": {},
     "output_type": "execute_result"
    }
   ],
   "source": [
    "# Importing a function from torchtext\n",
    "from torchtext.data.utils import get_tokenizer\n",
    "\n",
    "# Using the get_tokenizer function to tokenize a sample text\n",
    "# NOTE: The tokenizer is set to \"basic_english\" which is a simple tokenizer that splits text into words.\n",
    "tokenizer = get_tokenizer(\"basic_english\")\n",
    "# get_tokenizer (which is a function ) returns a callable function (here named tokenizer)\n",
    "# This tokenizer function can be used to tokenize text\n",
    "tokenizer(dataset[0][1])\n"
   ]
  },
  {
   "cell_type": "markdown",
   "id": "7368c91d",
   "metadata": {},
   "source": [
    "- Now lets create an iterator that iterates through all the sentences of datasets and yields the tokens"
   ]
  },
  {
   "cell_type": "code",
   "execution_count": 3,
   "id": "4f7b759d",
   "metadata": {},
   "outputs": [],
   "source": [
    "def yield_tokens(data_iter):\n",
    "    for _, text in data_iter:\n",
    "        yield tokenizer(text)\n",
    "my_iterator = yield_tokens(dataset)\n"
   ]
  },
  {
   "cell_type": "markdown",
   "id": "c94f9856",
   "metadata": {},
   "source": [
    "- 'build_vocab_from_iterator' function will converts these tokens to indecies\n"
   ]
  },
  {
   "cell_type": "code",
   "execution_count": 4,
   "id": "2a9a9178",
   "metadata": {},
   "outputs": [
    {
     "data": {
      "text/plain": [
       "{'this': 2,\n",
       " 'love': 17,\n",
       " '.': 1,\n",
       " 'review': 8,\n",
       " '<unk>': 0,\n",
       " 'product': 7,\n",
       " 'i': 5,\n",
       " '!': 3,\n",
       " 'a': 4,\n",
       " 'is': 6,\n",
       " 'buy': 11,\n",
       " 'absolutely': 9,\n",
       " 'again': 10,\n",
       " 'experience': 12,\n",
       " 'fantastic': 13,\n",
       " 'recommend': 21,\n",
       " 'hate': 14,\n",
       " 'highly': 15,\n",
       " 'it': 16,\n",
       " 'positive': 20,\n",
       " 'negative': 18,\n",
       " 'not': 19,\n",
       " 'terrible': 22,\n",
       " 'would': 23}"
      ]
     },
     "execution_count": 4,
     "metadata": {},
     "output_type": "execute_result"
    }
   ],
   "source": [
    "from torchtext.vocab import build_vocab_from_iterator\n",
    "vocab = build_vocab_from_iterator(yield_tokens(dataset), specials=[\"<unk>\"])\n",
    "vocab.set_default_index(vocab[\"<unk>\"])\n",
    "vocab.get_stoi()  # This will return the string to index mapping of the vocabulary"
   ]
  },
  {
   "cell_type": "code",
   "execution_count": null,
   "id": "3d66f7b1",
   "metadata": {},
   "outputs": [],
   "source": []
  }
 ],
 "metadata": {
  "kernelspec": {
   "display_name": ".genai",
   "language": "python",
   "name": "python3"
  },
  "language_info": {
   "codemirror_mode": {
    "name": "ipython",
    "version": 3
   },
   "file_extension": ".py",
   "mimetype": "text/x-python",
   "name": "python",
   "nbconvert_exporter": "python",
   "pygments_lexer": "ipython3",
   "version": "3.11.9"
  }
 },
 "nbformat": 4,
 "nbformat_minor": 5
}
